{
  "nbformat": 4,
  "nbformat_minor": 0,
  "metadata": {
    "colab": {
      "name": "Pandas.ipynb",
      "provenance": [],
      "collapsed_sections": [],
      "include_colab_link": true
    },
    "kernelspec": {
      "display_name": "Python 3",
      "language": "python",
      "name": "python3"
    },
    "language_info": {
      "codemirror_mode": {
        "name": "ipython",
        "version": 3
      },
      "file_extension": ".py",
      "mimetype": "text/x-python",
      "name": "python",
      "nbconvert_exporter": "python",
      "pygments_lexer": "ipython3",
      "version": "3.6.5"
    }
  },
  "cells": [
    {
      "cell_type": "markdown",
      "metadata": {
        "id": "view-in-github",
        "colab_type": "text"
      },
      "source": [
        "<a href=\"https://colab.research.google.com/github/ShumailaAhmed/AI-Workshop/blob/main/Pandas.ipynb\" target=\"_parent\"><img src=\"https://colab.research.google.com/assets/colab-badge.svg\" alt=\"Open In Colab\"/></a>"
      ]
    },
    {
      "cell_type": "code",
      "metadata": {
        "id": "eY-ctk6xQuED"
      },
      "source": [
        "from PIL import Image\n",
        "import numpy as np\n",
        "#import matplotlib.pyplot as plt"
      ],
      "execution_count": null,
      "outputs": []
    },
    {
      "cell_type": "code",
      "metadata": {
        "id": "j70N6QN_QxXw"
      },
      "source": [
        "img = Image.open(\"/content/assignment.jpg\")\n",
        "img.load()\n",
        "data = np.asarray( img, dtype=\"int32\" )\n",
        "smaller_data = data[::2, ::2]\n",
        "im = Image.fromarray(np.uint8(smaller_data))\n",
        "im.save(\"your_file.jpg\")\n",
        "#plt.imshow(smaller_data)\n",
        "#plt.imshow(data)"
      ],
      "execution_count": null,
      "outputs": []
    },
    {
      "cell_type": "markdown",
      "metadata": {
        "id": "d9UmvY3jy2Ep"
      },
      "source": [
        "# Installing Pandas\n",
        "**if you have installed anaconda, pandas is already part of it.\n",
        "for other python installation use \"pip install pandas\" to install latest version**"
      ]
    },
    {
      "cell_type": "markdown",
      "metadata": {
        "id": "k2aaa2yw2kyY"
      },
      "source": [
        "# Section 5.1 Pandas Series\n",
        "![image.png](data:image/png;base64,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)"
      ]
    },
    {
      "cell_type": "code",
      "metadata": {
        "id": "9Yy0tfSTNYzk",
        "colab": {
          "base_uri": "https://localhost:8080/"
        },
        "outputId": "3187246a-f04b-4510-bd08-d7a8d665905f"
      },
      "source": [
        "# must need to import pandas\n",
        "import pandas as pd\n",
        "obj = pd.Series([4, 7, -5, 3])\n",
        "print(obj)"
      ],
      "execution_count": null,
      "outputs": [
        {
          "output_type": "stream",
          "text": [
            "0    4\n",
            "1    7\n",
            "2   -5\n",
            "3    3\n",
            "dtype: int64\n"
          ],
          "name": "stdout"
        }
      ]
    },
    {
      "cell_type": "markdown",
      "metadata": {
        "id": "GVJs6BqUNYzn"
      },
      "source": [
        "# pandas Series has two things in one object\n",
        "# 1 Values\n",
        "#  2 Index"
      ]
    },
    {
      "cell_type": "code",
      "metadata": {
        "id": "B5TtvH8bNYzn",
        "colab": {
          "base_uri": "https://localhost:8080/"
        },
        "outputId": "2979556f-9472-4239-cab2-27604949043c"
      },
      "source": [
        "sales = pd.Series([100, 200, 100, 400])\n",
        "print(sales.values)\n",
        "print(sales.index)"
      ],
      "execution_count": null,
      "outputs": [
        {
          "output_type": "stream",
          "text": [
            "[100 200 100 400]\n",
            "RangeIndex(start=0, stop=4, step=1)\n"
          ],
          "name": "stdout"
        }
      ]
    },
    {
      "cell_type": "code",
      "metadata": {
        "id": "LDtx2gL-NYzo",
        "colab": {
          "base_uri": "https://localhost:8080/"
        },
        "outputId": "fe90656a-0dfb-45c0-c90a-7c77363d2667"
      },
      "source": [
        "sales = pd.Series([100, 200, 100, 400], \n",
        "          index = ['Jan', 'Feb', 'Mar','Apr'])\n",
        "print(sales)\n",
        "print(sales.values)\n",
        "print(sales.index)"
      ],
      "execution_count": null,
      "outputs": [
        {
          "output_type": "stream",
          "text": [
            "Jan    100\n",
            "Feb    200\n",
            "Mar    100\n",
            "Apr    400\n",
            "dtype: int64\n",
            "[100 200 100 400]\n",
            "Index(['Jan', 'Feb', 'Mar', 'Apr'], dtype='object')\n"
          ],
          "name": "stdout"
        }
      ]
    },
    {
      "cell_type": "code",
      "metadata": {
        "id": "rCB7f_y1NYzo",
        "colab": {
          "base_uri": "https://localhost:8080/"
        },
        "outputId": "1ba8c245-fff3-401e-d9f6-3aae715374b0"
      },
      "source": [
        "sales = pd.Series([100, 200, 100, 400],\n",
        "       index = ['Jan', 'Feb', 'Mar','Apr'],\n",
        "       name=\"4 month sales\") \n",
        "print(sales)"
      ],
      "execution_count": null,
      "outputs": [
        {
          "output_type": "stream",
          "text": [
            "Jan    100\n",
            "Feb    200\n",
            "Mar    100\n",
            "Apr    400\n",
            "Name: 4 month sales, dtype: int64\n"
          ],
          "name": "stdout"
        }
      ]
    },
    {
      "cell_type": "markdown",
      "metadata": {
        "id": "IdSCjX93NYzp"
      },
      "source": [
        "# create a pandas series to store a canteen data to hold values of how many sandwithes are sold each days (one week)"
      ]
    },
    {
      "cell_type": "code",
      "metadata": {
        "id": "sLANIFBoNYzp",
        "colab": {
          "base_uri": "https://localhost:8080/"
        },
        "outputId": "b698c404-b4c1-4224-8bdc-b74521d340cc"
      },
      "source": [
        "sw = pd.Series([20, 30, 20, 25, 30, 40, 0], \n",
        "index = ['mon', 'tue', 'wed', 'thr','fri', 'sat', 'sun'])\n",
        "print(sw)"
      ],
      "execution_count": null,
      "outputs": [
        {
          "output_type": "stream",
          "text": [
            "mon    20\n",
            "tue    30\n",
            "wed    20\n",
            "thr    25\n",
            "fri    30\n",
            "sat    40\n",
            "sun     0\n",
            "dtype: int64\n"
          ],
          "name": "stdout"
        }
      ]
    },
    {
      "cell_type": "code",
      "metadata": {
        "id": "JYFVuX0WNYzq",
        "colab": {
          "base_uri": "https://localhost:8080/"
        },
        "outputId": "745503d7-c556-40db-9dc1-2953b49cbdb5"
      },
      "source": [
        "print(sw[1])\n",
        "print(sw[\"tue\"])\n",
        "print(sw[\"sun\"])\n"
      ],
      "execution_count": null,
      "outputs": [
        {
          "output_type": "stream",
          "text": [
            "30\n",
            "30\n",
            "0\n"
          ],
          "name": "stdout"
        }
      ]
    },
    {
      "cell_type": "code",
      "metadata": {
        "id": "gGuOGJFVNYzq",
        "colab": {
          "base_uri": "https://localhost:8080/"
        },
        "outputId": "817e374a-cbd4-484a-90e9-eb4691736c49"
      },
      "source": [
        "print(sw[  [3,5] ])\n",
        "print(sw[ [ \"tue\", \"thr\"] ])"
      ],
      "execution_count": null,
      "outputs": [
        {
          "output_type": "stream",
          "text": [
            "thr    50\n",
            "sat    80\n",
            "dtype: int64\n",
            "tue    60\n",
            "thr    50\n",
            "dtype: int64\n"
          ],
          "name": "stdout"
        }
      ]
    },
    {
      "cell_type": "code",
      "metadata": {
        "id": "L_yhbueoNYzr",
        "colab": {
          "base_uri": "https://localhost:8080/"
        },
        "outputId": "e2cd47ed-41a6-476c-fea7-4df239063761"
      },
      "source": [
        "sw * 2\n",
        "sw = sw * 2\n",
        "print(sw)"
      ],
      "execution_count": null,
      "outputs": [
        {
          "output_type": "stream",
          "text": [
            "mon    40\n",
            "tue    60\n",
            "wed    40\n",
            "thr    50\n",
            "fri    60\n",
            "sat    80\n",
            "sun     0\n",
            "dtype: int64\n"
          ],
          "name": "stdout"
        }
      ]
    },
    {
      "cell_type": "code",
      "metadata": {
        "id": "54AnuihKNYzs",
        "outputId": "f2ebbef5-cd02-4303-f406-33fb8cd65fec"
      },
      "source": [
        "sw = sw /2\n",
        "print(sw)"
      ],
      "execution_count": null,
      "outputs": [
        {
          "output_type": "stream",
          "text": [
            "mon    20.0\n",
            "tue    30.0\n",
            "wed    20.0\n",
            "thr    25.0\n",
            "fri    30.0\n",
            "sat    40.0\n",
            "sun     0.0\n",
            "dtype: float64\n"
          ],
          "name": "stdout"
        }
      ]
    },
    {
      "cell_type": "code",
      "metadata": {
        "id": "y7mBESmANYzt",
        "colab": {
          "base_uri": "https://localhost:8080/"
        },
        "outputId": "95edb909-4f2f-4cfc-e172-52554028d34b"
      },
      "source": [
        "'mon' in sw"
      ],
      "execution_count": null,
      "outputs": [
        {
          "output_type": "execute_result",
          "data": {
            "text/plain": [
              "True"
            ]
          },
          "metadata": {
            "tags": []
          },
          "execution_count": 9
        }
      ]
    },
    {
      "cell_type": "code",
      "metadata": {
        "id": "fRv8dBP3NYzt",
        "colab": {
          "base_uri": "https://localhost:8080/"
        },
        "outputId": "33d8b4b4-243d-459e-da9b-41a54ae8c374"
      },
      "source": [
        "#taking input from numpy arrays\n",
        "import numpy as np\n",
        "ar = np.array([3,2,4,5,6])\n",
        "ind = np.array( ['a', 'b', 'c', 'd', 'e'])\n",
        "\n",
        "obj2 = pd.Series(ar, index = ind)\n",
        "print(obj2)"
      ],
      "execution_count": null,
      "outputs": [
        {
          "output_type": "stream",
          "text": [
            "a    3\n",
            "b    2\n",
            "c    4\n",
            "d    5\n",
            "e    6\n",
            "dtype: int64\n"
          ],
          "name": "stdout"
        }
      ]
    },
    {
      "cell_type": "code",
      "metadata": {
        "id": "TXRogzmHNYzu",
        "colab": {
          "base_uri": "https://localhost:8080/"
        },
        "outputId": "b12efff3-848c-444c-93ec-bc72801285cc"
      },
      "source": [
        "#creating data from a dict\n",
        "sdata = {\"Sindh\": 35000, \"Panjab\": 4500, \"KPK\": 3000, \"Balochistan\": 2000}\n",
        "tax_by_state = pd.Series(sdata)\n",
        "print(tax_by_state)\n",
        "print(tax_by_state.index)"
      ],
      "execution_count": null,
      "outputs": [
        {
          "output_type": "stream",
          "text": [
            "Sindh          35000\n",
            "Panjab          4500\n",
            "KPK             3000\n",
            "Balochistan     2000\n",
            "dtype: int64\n",
            "Index(['Sindh', 'Panjab', 'KPK', 'Balochistan'], dtype='object')\n"
          ],
          "name": "stdout"
        }
      ]
    },
    {
      "cell_type": "code",
      "metadata": {
        "id": "ilPqNMT7NYzu",
        "colab": {
          "base_uri": "https://localhost:8080/"
        },
        "outputId": "4e8f0d58-dbb7-4f02-b847-58be3c31d3e5"
      },
      "source": [
        "#change arrangement by defining keys as index\n",
        "sdata = {\"Sindh\": 35000, \"Panjab\": 45000, \"KPK\": 30000, \"Balochistan\": 20000}\n",
        "tax_by_state = pd.Series(sdata, index = [\"Panjab\", \"Sindh\", \"KPK\", \"Balochistan\", \"GB\"])\n",
        "print(tax_by_state)\n",
        "print(pd.isnull(tax_by_state))"
      ],
      "execution_count": null,
      "outputs": [
        {
          "output_type": "stream",
          "text": [
            "Panjab         45000.0\n",
            "Sindh          35000.0\n",
            "KPK            30000.0\n",
            "Balochistan    20000.0\n",
            "GB                 NaN\n",
            "dtype: float64\n",
            "Panjab         False\n",
            "Sindh          False\n",
            "KPK            False\n",
            "Balochistan    False\n",
            "GB              True\n",
            "dtype: bool\n"
          ],
          "name": "stdout"
        }
      ]
    },
    {
      "cell_type": "code",
      "metadata": {
        "id": "INHG8XyTNYzu",
        "colab": {
          "base_uri": "https://localhost:8080/"
        },
        "outputId": "508c218e-efa7-44e1-a250-e953385f607d"
      },
      "source": [
        "\n",
        "#name the index\n",
        "tax_by_state.name= \"state tax paying capicity\"\n",
        "tax_by_state.index.name = \"states name\"\n",
        "print(tax_by_state)\n",
        "print(tax_by_state.index)"
      ],
      "execution_count": null,
      "outputs": [
        {
          "output_type": "stream",
          "text": [
            "states name\n",
            "Panjab         45000.0\n",
            "Sindh          35000.0\n",
            "KPK            30000.0\n",
            "Balochistan    20000.0\n",
            "GB                 NaN\n",
            "Name: state tax paying capicity, dtype: float64\n",
            "Index(['Panjab', 'Sindh', 'KPK', 'Balochistan', 'GB'], dtype='object', name='states name')\n"
          ],
          "name": "stdout"
        }
      ]
    },
    {
      "cell_type": "code",
      "metadata": {
        "id": "54Yg-A-hNYzv",
        "colab": {
          "base_uri": "https://localhost:8080/"
        },
        "outputId": "c129e2cf-7475-45f8-f09b-9d82f959d3cc"
      },
      "source": [
        "# NaN values mean, values does not exist in pandas series\n",
        "pd.isnull(tax_by_state) \n",
        "tax_by_state.isnull()"
      ],
      "execution_count": null,
      "outputs": [
        {
          "output_type": "execute_result",
          "data": {
            "text/plain": [
              "states name\n",
              "Panjab         False\n",
              "Sindh          False\n",
              "KPK            False\n",
              "Balochistan    False\n",
              "GB              True\n",
              "Name: state tax paying capicity, dtype: bool"
            ]
          },
          "metadata": {
            "tags": []
          },
          "execution_count": 50
        }
      ]
    },
    {
      "cell_type": "code",
      "metadata": {
        "id": "C1fBpnnINYzv",
        "colab": {
          "base_uri": "https://localhost:8080/"
        },
        "outputId": "e657b7d6-aac8-49eb-9ade-aeca38ecd159"
      },
      "source": [
        "sw = pd.Series([20, 30, 20, 25, 30, 40, 0], \n",
        "               index = ['mon', 'tue', 'wed', 'thr','fri', 'sat', 'sun'])\n",
        "print(sw)\n",
        "sw.index = [\"m\", \"t\", \"w\", \"t\", \"f\", \"s\", \"s\"]\n",
        "print(sw)"
      ],
      "execution_count": null,
      "outputs": [
        {
          "output_type": "stream",
          "text": [
            "mon    20\n",
            "tue    30\n",
            "wed    20\n",
            "thr    25\n",
            "fri    30\n",
            "sat    40\n",
            "sun     0\n",
            "dtype: int64\n",
            "m    20\n",
            "t    30\n",
            "w    20\n",
            "t    25\n",
            "f    30\n",
            "s    40\n",
            "s     0\n",
            "dtype: int64\n"
          ],
          "name": "stdout"
        }
      ]
    },
    {
      "cell_type": "markdown",
      "metadata": {
        "id": "MsT7z_vjNiS3"
      },
      "source": [
        "# Pandas DataFrame overview\n"
      ]
    },
    {
      "cell_type": "markdown",
      "metadata": {
        "id": "KL_wSl-mNiS7"
      },
      "source": [
        "**A DataFrame represents a rectangular table of data and contains an ordered collection of columns, each of which can be a different value type (numeric, string,\n",
        "boolean, etc.). The DataFrame has both a row and column index**"
      ]
    },
    {
      "cell_type": "markdown",
      "metadata": {
        "id": "Nule3A60OSdB"
      },
      "source": [
        "![image.png](data:image/png;base64,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)"
      ]
    },
    {
      "cell_type": "markdown",
      "metadata": {
        "id": "nBBAtu41NiS8"
      },
      "source": [
        "# DataFrame\n",
        "![image.png](data:image/png;base64,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)"
      ]
    },
    {
      "cell_type": "code",
      "metadata": {
        "id": "UWKblkFVNiS9",
        "colab": {
          "base_uri": "https://localhost:8080/"
        },
        "outputId": "3a5012c1-91e9-4f95-a18e-98f559c6d9ed"
      },
      "source": [
        "apples = pd.Series([3,2,0,1])\n",
        "oranges = pd.Series([3,4,7,8])\n",
        "\n",
        "#[\"Shop1\",\"Shop2\",\"Shop3\",\"Shop4\"]\n",
        "#print(apples, oranges)\n",
        "data = {\"apples\": apples, \"oranges\": oranges}\n",
        "fruits_df = pd.DataFrame(data) #each key becomes a series\n",
        "print(fruits_df)\n"
      ],
      "execution_count": null,
      "outputs": [
        {
          "output_type": "stream",
          "text": [
            "   apples  oranges\n",
            "0       3        3\n",
            "1       2        4\n",
            "2       0        7\n",
            "3       1        8\n"
          ],
          "name": "stdout"
        }
      ]
    },
    {
      "cell_type": "markdown",
      "metadata": {
        "id": "a91Wjd6CNiS_"
      },
      "source": [
        "# keep in mind, Indexes"
      ]
    },
    {
      "cell_type": "code",
      "metadata": {
        "id": "esZLgrKwNiS_",
        "colab": {
          "base_uri": "https://localhost:8080/"
        },
        "outputId": "6bb8aab5-cb86-4a9d-eb78-5ee7e7502e6a"
      },
      "source": [
        "import pandas as pd\n",
        "\n",
        "apples = pd.Series([3,2,0,1], [\"shop1\",\"shop2\",\"shop3\",\"shop4\"] )\n",
        "oranges = pd.Series([3,2,0,1], index = [\"mon\", \"tue\", \"wed\", \"thr\"])\n",
        "\n",
        "#print(apples, oranges)\n",
        "data = {\"apples\": apples, \"oranges\": oranges}\n",
        "fruits_df = pd.DataFrame(data)\n",
        "print(fruits_df)\n",
        "# index not matched"
      ],
      "execution_count": null,
      "outputs": [
        {
          "output_type": "stream",
          "text": [
            "       apples  oranges\n",
            "mon       NaN      3.0\n",
            "shop1     3.0      NaN\n",
            "shop2     2.0      NaN\n",
            "shop3     0.0      NaN\n",
            "shop4     1.0      NaN\n",
            "thr       NaN      1.0\n",
            "tue       NaN      2.0\n",
            "wed       NaN      0.0\n"
          ],
          "name": "stdout"
        }
      ]
    },
    {
      "cell_type": "code",
      "metadata": {
        "id": "P3XsYBcuNiTA",
        "colab": {
          "base_uri": "https://localhost:8080/"
        },
        "outputId": "f4a8ca32-cbfe-4f3d-b2ce-187c25029089"
      },
      "source": [
        "apples = pd.Series([3,2,0,1] , index = [\"mon\", \"tue\", \"wed\", \"thr\"] )\n",
        "oranges = pd.Series([3,2,0,1], index = [\"mon\", \"tue\", \"wed\", \"thr\"])\n",
        "\n",
        "#print(apples,\"\\n\", oranges)\n",
        "data = {\"apples\": apples, \"oranges\": oranges}\n",
        "fruits_df = pd.DataFrame(data)\n",
        "print(fruits_df)"
      ],
      "execution_count": null,
      "outputs": [
        {
          "output_type": "stream",
          "text": [
            "     apples  oranges\n",
            "mon       3        3\n",
            "tue       2        2\n",
            "wed       0        0\n",
            "thr       1        1\n"
          ],
          "name": "stdout"
        }
      ]
    },
    {
      "cell_type": "code",
      "metadata": {
        "id": "9esA7QoXNiTA",
        "colab": {
          "base_uri": "https://localhost:8080/"
        },
        "outputId": "d4b58d41-6244-4a7e-cb03-812e0ddfdf87"
      },
      "source": [
        "import pandas as pd\n",
        "\n",
        "state = ['KPK', 'KPK', 'KPK', 'Sindh', 'Sindh', 'Sindh']\n",
        "data = {'state': state ,\n",
        "        'year' : [2000, 2001, 2002, 2001, 2002, 2003],\n",
        "        'pop'  : [1.5, 1.7, 3.6, 2.4, 2.9, 3.2]}\n",
        "state_pop_df = pd.DataFrame(data \n",
        "                     , index = ['1st', '2nd', '3rd', \n",
        "                                '4th', '5th','6th'] ) #we can pass index\n",
        "print(state_pop_df)"
      ],
      "execution_count": null,
      "outputs": [
        {
          "output_type": "stream",
          "text": [
            "     state  year  pop\n",
            "1st    KPK  2000  1.5\n",
            "2nd    KPK  2001  1.7\n",
            "3rd    KPK  2002  3.6\n",
            "4th  Sindh  2001  2.4\n",
            "5th  Sindh  2002  2.9\n",
            "6th  Sindh  2003  3.2\n"
          ],
          "name": "stdout"
        }
      ]
    },
    {
      "cell_type": "code",
      "metadata": {
        "id": "V72N1JYNNiTB",
        "colab": {
          "base_uri": "https://localhost:8080/"
        },
        "outputId": "c52173ba-340c-41c3-9a1c-af5cbdc1953c"
      },
      "source": [
        "#state_pop_df.head()\n",
        "state_pop_df =pd.DataFrame(data, columns=['year', 'state', 'pop']) #change arrangement \n",
        "print(state_pop_df)\n",
        "x =10\n",
        "x"
      ],
      "execution_count": null,
      "outputs": [
        {
          "output_type": "stream",
          "text": [
            "   year  state  pop\n",
            "0  2000    KPK  1.5\n",
            "1  2001    KPK  1.7\n",
            "2  2002    KPK  3.6\n",
            "3  2001  Sindh  2.4\n",
            "4  2002  Sindh  2.9\n",
            "5  2003  Sindh  3.2\n"
          ],
          "name": "stdout"
        },
        {
          "output_type": "execute_result",
          "data": {
            "text/plain": [
              "10"
            ]
          },
          "metadata": {
            "tags": []
          },
          "execution_count": 70
        }
      ]
    },
    {
      "cell_type": "code",
      "metadata": {
        "id": "VsV5gZJxNiTB",
        "colab": {
          "base_uri": "https://localhost:8080/",
          "height": 206
        },
        "outputId": "4992cf2f-f725-405f-fa78-6375d3f43ecf"
      },
      "source": [
        "frame2 = pd.DataFrame(data, \n",
        "                      columns=['year', 'state', 'pop', 'debt'], \n",
        "index=['one', 'two', 'three', 'four','five', 'six'])\n",
        "frame2.head()"
      ],
      "execution_count": null,
      "outputs": [
        {
          "output_type": "execute_result",
          "data": {
            "text/html": [
              "<div>\n",
              "<style scoped>\n",
              "    .dataframe tbody tr th:only-of-type {\n",
              "        vertical-align: middle;\n",
              "    }\n",
              "\n",
              "    .dataframe tbody tr th {\n",
              "        vertical-align: top;\n",
              "    }\n",
              "\n",
              "    .dataframe thead th {\n",
              "        text-align: right;\n",
              "    }\n",
              "</style>\n",
              "<table border=\"1\" class=\"dataframe\">\n",
              "  <thead>\n",
              "    <tr style=\"text-align: right;\">\n",
              "      <th></th>\n",
              "      <th>year</th>\n",
              "      <th>state</th>\n",
              "      <th>pop</th>\n",
              "      <th>debt</th>\n",
              "    </tr>\n",
              "  </thead>\n",
              "  <tbody>\n",
              "    <tr>\n",
              "      <th>one</th>\n",
              "      <td>2000</td>\n",
              "      <td>KPK</td>\n",
              "      <td>1.5</td>\n",
              "      <td>NaN</td>\n",
              "    </tr>\n",
              "    <tr>\n",
              "      <th>two</th>\n",
              "      <td>2001</td>\n",
              "      <td>KPK</td>\n",
              "      <td>1.7</td>\n",
              "      <td>NaN</td>\n",
              "    </tr>\n",
              "    <tr>\n",
              "      <th>three</th>\n",
              "      <td>2002</td>\n",
              "      <td>KPK</td>\n",
              "      <td>3.6</td>\n",
              "      <td>NaN</td>\n",
              "    </tr>\n",
              "    <tr>\n",
              "      <th>four</th>\n",
              "      <td>2001</td>\n",
              "      <td>Sindh</td>\n",
              "      <td>2.4</td>\n",
              "      <td>NaN</td>\n",
              "    </tr>\n",
              "    <tr>\n",
              "      <th>five</th>\n",
              "      <td>2002</td>\n",
              "      <td>Sindh</td>\n",
              "      <td>2.9</td>\n",
              "      <td>NaN</td>\n",
              "    </tr>\n",
              "  </tbody>\n",
              "</table>\n",
              "</div>"
            ],
            "text/plain": [
              "       year  state  pop debt\n",
              "one    2000    KPK  1.5  NaN\n",
              "two    2001    KPK  1.7  NaN\n",
              "three  2002    KPK  3.6  NaN\n",
              "four   2001  Sindh  2.4  NaN\n",
              "five   2002  Sindh  2.9  NaN"
            ]
          },
          "metadata": {
            "tags": []
          },
          "execution_count": 74
        }
      ]
    },
    {
      "cell_type": "code",
      "metadata": {
        "id": "Mez3VgvONiTC",
        "colab": {
          "base_uri": "https://localhost:8080/"
        },
        "outputId": "de16ab56-dc37-4b13-e753-62c95f461926"
      },
      "source": [
        "print(frame2.columns)\n",
        "print( frame2.index )"
      ],
      "execution_count": null,
      "outputs": [
        {
          "output_type": "stream",
          "text": [
            "Index(['year', 'state', 'pop', 'debt'], dtype='object')\n",
            "Index(['one', 'two', 'three', 'four', 'five', 'six'], dtype='object')\n"
          ],
          "name": "stdout"
        }
      ]
    },
    {
      "cell_type": "markdown",
      "metadata": {
        "id": "-ZVPzOy4NiTC"
      },
      "source": [
        "# A column in a DataFrame can be retrieved as a Series either by dict-like notation or by attribute:"
      ]
    },
    {
      "cell_type": "code",
      "metadata": {
        "id": "fhRy3MkqNiTD",
        "colab": {
          "base_uri": "https://localhost:8080/"
        },
        "outputId": "23a481a9-0583-4db2-fbaa-a07d80e60da9"
      },
      "source": [
        "#print(data)\n",
        "#data['state']\n",
        "# this is dictinary like notation to access or extract\n",
        "# dataframe column data\n",
        "frame2[\"state\"]\n"
      ],
      "execution_count": null,
      "outputs": [
        {
          "output_type": "execute_result",
          "data": {
            "text/plain": [
              "one        KPK\n",
              "two        KPK\n",
              "three      KPK\n",
              "four     Sindh\n",
              "five     Sindh\n",
              "six      Sindh\n",
              "Name: state, dtype: object"
            ]
          },
          "metadata": {
            "tags": []
          },
          "execution_count": 81
        }
      ]
    },
    {
      "cell_type": "code",
      "metadata": {
        "id": "NxjwujsGNiTD",
        "colab": {
          "base_uri": "https://localhost:8080/"
        },
        "outputId": "3b37b1d1-ae2c-4714-c5b4-8b047f867e58"
      },
      "source": [
        "# there frame2 is another method , attribute style of accessing\n",
        "# dataframe data.\n",
        "frame2.state"
      ],
      "execution_count": null,
      "outputs": [
        {
          "output_type": "execute_result",
          "data": {
            "text/plain": [
              "one        KPK\n",
              "two        KPK\n",
              "three      KPK\n",
              "four     Sindh\n",
              "five     Sindh\n",
              "six      Sindh\n",
              "Name: state, dtype: object"
            ]
          },
          "metadata": {
            "tags": []
          },
          "execution_count": 83
        }
      ]
    },
    {
      "cell_type": "code",
      "metadata": {
        "id": "-DsfBH6lNiTD",
        "colab": {
          "base_uri": "https://localhost:8080/",
          "height": 293
        },
        "outputId": "0b62055f-0aab-49e8-8fea-b176bd3831bb"
      },
      "source": [
        "print(frame2.loc['two'] ) # retrive using location function\n",
        "state_pop_df.head()\n",
        "frame2.head()"
      ],
      "execution_count": null,
      "outputs": [
        {
          "output_type": "stream",
          "text": [
            "year     2001\n",
            "state    Ohio\n",
            "pop       1.7\n",
            "debt     -1.2\n",
            "Name: two, dtype: object\n"
          ],
          "name": "stdout"
        },
        {
          "output_type": "execute_result",
          "data": {
            "text/html": [
              "<div>\n",
              "<style scoped>\n",
              "    .dataframe tbody tr th:only-of-type {\n",
              "        vertical-align: middle;\n",
              "    }\n",
              "\n",
              "    .dataframe tbody tr th {\n",
              "        vertical-align: top;\n",
              "    }\n",
              "\n",
              "    .dataframe thead th {\n",
              "        text-align: right;\n",
              "    }\n",
              "</style>\n",
              "<table border=\"1\" class=\"dataframe\">\n",
              "  <thead>\n",
              "    <tr style=\"text-align: right;\">\n",
              "      <th></th>\n",
              "      <th>year</th>\n",
              "      <th>state</th>\n",
              "      <th>pop</th>\n",
              "      <th>debt</th>\n",
              "    </tr>\n",
              "  </thead>\n",
              "  <tbody>\n",
              "    <tr>\n",
              "      <th>one</th>\n",
              "      <td>2000</td>\n",
              "      <td>Ohio</td>\n",
              "      <td>1.5</td>\n",
              "      <td>NaN</td>\n",
              "    </tr>\n",
              "    <tr>\n",
              "      <th>two</th>\n",
              "      <td>2001</td>\n",
              "      <td>Ohio</td>\n",
              "      <td>1.7</td>\n",
              "      <td>-1.2</td>\n",
              "    </tr>\n",
              "    <tr>\n",
              "      <th>three</th>\n",
              "      <td>2002</td>\n",
              "      <td>Ohio</td>\n",
              "      <td>3.6</td>\n",
              "      <td>NaN</td>\n",
              "    </tr>\n",
              "    <tr>\n",
              "      <th>four</th>\n",
              "      <td>2001</td>\n",
              "      <td>Nevada</td>\n",
              "      <td>2.4</td>\n",
              "      <td>-1.5</td>\n",
              "    </tr>\n",
              "    <tr>\n",
              "      <th>five</th>\n",
              "      <td>2002</td>\n",
              "      <td>Nevada</td>\n",
              "      <td>2.9</td>\n",
              "      <td>-1.7</td>\n",
              "    </tr>\n",
              "  </tbody>\n",
              "</table>\n",
              "</div>"
            ],
            "text/plain": [
              "       year   state  pop  debt\n",
              "one    2000    Ohio  1.5   NaN\n",
              "two    2001    Ohio  1.7  -1.2\n",
              "three  2002    Ohio  3.6   NaN\n",
              "four   2001  Nevada  2.4  -1.5\n",
              "five   2002  Nevada  2.9  -1.7"
            ]
          },
          "metadata": {
            "tags": []
          },
          "execution_count": 91
        }
      ]
    },
    {
      "cell_type": "markdown",
      "metadata": {
        "id": "epJZQkZiNiTE"
      },
      "source": [
        "**Columns can be modified by assignment. For example, the empty 'debt' column\n",
        "could be assigned a scalar value or an array of values:**"
      ]
    },
    {
      "cell_type": "code",
      "metadata": {
        "id": "B_3aKL5QNiTE",
        "colab": {
          "base_uri": "https://localhost:8080/",
          "height": 206
        },
        "outputId": "7d993209-f1fb-4e33-f324-11d0ecc1d085"
      },
      "source": [
        "frame2['debt'] = 16.5\n",
        "frame2.head()"
      ],
      "execution_count": null,
      "outputs": [
        {
          "output_type": "execute_result",
          "data": {
            "text/html": [
              "<div>\n",
              "<style scoped>\n",
              "    .dataframe tbody tr th:only-of-type {\n",
              "        vertical-align: middle;\n",
              "    }\n",
              "\n",
              "    .dataframe tbody tr th {\n",
              "        vertical-align: top;\n",
              "    }\n",
              "\n",
              "    .dataframe thead th {\n",
              "        text-align: right;\n",
              "    }\n",
              "</style>\n",
              "<table border=\"1\" class=\"dataframe\">\n",
              "  <thead>\n",
              "    <tr style=\"text-align: right;\">\n",
              "      <th></th>\n",
              "      <th>year</th>\n",
              "      <th>state</th>\n",
              "      <th>pop</th>\n",
              "      <th>debt</th>\n",
              "    </tr>\n",
              "  </thead>\n",
              "  <tbody>\n",
              "    <tr>\n",
              "      <th>one</th>\n",
              "      <td>2000</td>\n",
              "      <td>Ohio</td>\n",
              "      <td>1.5</td>\n",
              "      <td>16.5</td>\n",
              "    </tr>\n",
              "    <tr>\n",
              "      <th>two</th>\n",
              "      <td>2001</td>\n",
              "      <td>Ohio</td>\n",
              "      <td>1.7</td>\n",
              "      <td>16.5</td>\n",
              "    </tr>\n",
              "    <tr>\n",
              "      <th>three</th>\n",
              "      <td>2002</td>\n",
              "      <td>Ohio</td>\n",
              "      <td>3.6</td>\n",
              "      <td>16.5</td>\n",
              "    </tr>\n",
              "    <tr>\n",
              "      <th>four</th>\n",
              "      <td>2001</td>\n",
              "      <td>Nevada</td>\n",
              "      <td>2.4</td>\n",
              "      <td>16.5</td>\n",
              "    </tr>\n",
              "    <tr>\n",
              "      <th>five</th>\n",
              "      <td>2002</td>\n",
              "      <td>Nevada</td>\n",
              "      <td>2.9</td>\n",
              "      <td>16.5</td>\n",
              "    </tr>\n",
              "  </tbody>\n",
              "</table>\n",
              "</div>"
            ],
            "text/plain": [
              "       year   state  pop  debt\n",
              "one    2000    Ohio  1.5  16.5\n",
              "two    2001    Ohio  1.7  16.5\n",
              "three  2002    Ohio  3.6  16.5\n",
              "four   2001  Nevada  2.4  16.5\n",
              "five   2002  Nevada  2.9  16.5"
            ]
          },
          "metadata": {
            "tags": []
          },
          "execution_count": 101
        }
      ]
    },
    {
      "cell_type": "code",
      "metadata": {
        "id": "YgizsKbXNiTF",
        "colab": {
          "base_uri": "https://localhost:8080/"
        },
        "outputId": "14c8335b-8865-4c57-bf52-0b72c1e52add"
      },
      "source": [
        "# important cell for codes review\n",
        "\n",
        "state = ['Ohio', 'Ohio', 'Ohio', 'Nevada', 'Nevada', 'Nevada']\n",
        "\n",
        "data = {'state': state ,\n",
        "        'year' : [2000, 2001, 2002, 2001, 2002, 2003],\n",
        "        'pop'  : [1.5, 1.7, 3.6, 2.4, 2.9, 3.2]}\n",
        "\n",
        "#fill column values using numpy\n",
        "frame2 = pd.DataFrame(data, columns=['year', 'state', 'pop', 'debt'],\n",
        "        index=['one', 'two', 'three', 'four','five', 'six'])\n",
        "\n",
        "ln = len(frame2) # finding now of rows in dataframe\n",
        "print(frame2)\n",
        "rng = np.arange(ln)\n",
        "print(rng)\n",
        "frame2['debt'] = rng\n",
        "print(frame2)"
      ],
      "execution_count": null,
      "outputs": [
        {
          "output_type": "stream",
          "text": [
            "       year   state  pop debt\n",
            "one    2000    Ohio  1.5  NaN\n",
            "two    2001    Ohio  1.7  NaN\n",
            "three  2002    Ohio  3.6  NaN\n",
            "four   2001  Nevada  2.4  NaN\n",
            "five   2002  Nevada  2.9  NaN\n",
            "six    2003  Nevada  3.2  NaN\n",
            "[0 1 2 3 4 5]\n",
            "       year   state  pop  debt\n",
            "one    2000    Ohio  1.5     0\n",
            "two    2001    Ohio  1.7     1\n",
            "three  2002    Ohio  3.6     2\n",
            "four   2001  Nevada  2.4     3\n",
            "five   2002  Nevada  2.9     4\n",
            "six    2003  Nevada  3.2     5\n"
          ],
          "name": "stdout"
        }
      ]
    },
    {
      "cell_type": "markdown",
      "metadata": {
        "id": "vt2yQtGXNiTF"
      },
      "source": [
        "# point to remember , inserting new values, needs to be match in length of dataFrame (number of elements)"
      ]
    },
    {
      "cell_type": "code",
      "metadata": {
        "id": "9rg0L30GNiTF",
        "colab": {
          "base_uri": "https://localhost:8080/",
          "height": 237
        },
        "outputId": "8ad7576d-d7e7-4999-b685-eedb693e6f14"
      },
      "source": [
        "#changing column value using series\n",
        "val = pd.Series([-1.2, -1.5, -1.7, -1.2, -1.5, -1.7, 2.2],\n",
        "            index=['one', 'two', 'three', 'four', 'five',\n",
        "                   'six', 'seven'])\n",
        "frame2['debt'] = val\n",
        "frame2"
      ],
      "execution_count": null,
      "outputs": [
        {
          "output_type": "execute_result",
          "data": {
            "text/html": [
              "<div>\n",
              "<style scoped>\n",
              "    .dataframe tbody tr th:only-of-type {\n",
              "        vertical-align: middle;\n",
              "    }\n",
              "\n",
              "    .dataframe tbody tr th {\n",
              "        vertical-align: top;\n",
              "    }\n",
              "\n",
              "    .dataframe thead th {\n",
              "        text-align: right;\n",
              "    }\n",
              "</style>\n",
              "<table border=\"1\" class=\"dataframe\">\n",
              "  <thead>\n",
              "    <tr style=\"text-align: right;\">\n",
              "      <th></th>\n",
              "      <th>year</th>\n",
              "      <th>state</th>\n",
              "      <th>pop</th>\n",
              "      <th>debt</th>\n",
              "    </tr>\n",
              "  </thead>\n",
              "  <tbody>\n",
              "    <tr>\n",
              "      <th>one</th>\n",
              "      <td>2000</td>\n",
              "      <td>Ohio</td>\n",
              "      <td>1.5</td>\n",
              "      <td>-1.2</td>\n",
              "    </tr>\n",
              "    <tr>\n",
              "      <th>two</th>\n",
              "      <td>2001</td>\n",
              "      <td>Ohio</td>\n",
              "      <td>1.7</td>\n",
              "      <td>-1.5</td>\n",
              "    </tr>\n",
              "    <tr>\n",
              "      <th>three</th>\n",
              "      <td>2002</td>\n",
              "      <td>Ohio</td>\n",
              "      <td>3.6</td>\n",
              "      <td>-1.7</td>\n",
              "    </tr>\n",
              "    <tr>\n",
              "      <th>four</th>\n",
              "      <td>2001</td>\n",
              "      <td>Nevada</td>\n",
              "      <td>2.4</td>\n",
              "      <td>-1.2</td>\n",
              "    </tr>\n",
              "    <tr>\n",
              "      <th>five</th>\n",
              "      <td>2002</td>\n",
              "      <td>Nevada</td>\n",
              "      <td>2.9</td>\n",
              "      <td>-1.5</td>\n",
              "    </tr>\n",
              "    <tr>\n",
              "      <th>six</th>\n",
              "      <td>2003</td>\n",
              "      <td>Nevada</td>\n",
              "      <td>3.2</td>\n",
              "      <td>-1.7</td>\n",
              "    </tr>\n",
              "  </tbody>\n",
              "</table>\n",
              "</div>"
            ],
            "text/plain": [
              "       year   state  pop  debt\n",
              "one    2000    Ohio  1.5  -1.2\n",
              "two    2001    Ohio  1.7  -1.5\n",
              "three  2002    Ohio  3.6  -1.7\n",
              "four   2001  Nevada  2.4  -1.2\n",
              "five   2002  Nevada  2.9  -1.5\n",
              "six    2003  Nevada  3.2  -1.7"
            ]
          },
          "metadata": {
            "tags": []
          },
          "execution_count": 106
        }
      ]
    },
    {
      "cell_type": "code",
      "metadata": {
        "id": "przV61NLNiTG",
        "colab": {
          "base_uri": "https://localhost:8080/",
          "height": 237
        },
        "outputId": "9fe25d84-d0a8-4126-fb91-bb0f7fcf0721"
      },
      "source": [
        "#changing selected values\n",
        "val = pd.Series([-1.2, -1.5, -1.7, 2.6], index=['two', 'four', 'five', 'six'])\n",
        "frame2['debt'] = val\n",
        "frame2"
      ],
      "execution_count": null,
      "outputs": [
        {
          "output_type": "execute_result",
          "data": {
            "text/html": [
              "<div>\n",
              "<style scoped>\n",
              "    .dataframe tbody tr th:only-of-type {\n",
              "        vertical-align: middle;\n",
              "    }\n",
              "\n",
              "    .dataframe tbody tr th {\n",
              "        vertical-align: top;\n",
              "    }\n",
              "\n",
              "    .dataframe thead th {\n",
              "        text-align: right;\n",
              "    }\n",
              "</style>\n",
              "<table border=\"1\" class=\"dataframe\">\n",
              "  <thead>\n",
              "    <tr style=\"text-align: right;\">\n",
              "      <th></th>\n",
              "      <th>year</th>\n",
              "      <th>state</th>\n",
              "      <th>pop</th>\n",
              "      <th>debt</th>\n",
              "    </tr>\n",
              "  </thead>\n",
              "  <tbody>\n",
              "    <tr>\n",
              "      <th>one</th>\n",
              "      <td>2000</td>\n",
              "      <td>Ohio</td>\n",
              "      <td>1.5</td>\n",
              "      <td>NaN</td>\n",
              "    </tr>\n",
              "    <tr>\n",
              "      <th>two</th>\n",
              "      <td>2001</td>\n",
              "      <td>Ohio</td>\n",
              "      <td>1.7</td>\n",
              "      <td>-1.2</td>\n",
              "    </tr>\n",
              "    <tr>\n",
              "      <th>three</th>\n",
              "      <td>2002</td>\n",
              "      <td>Ohio</td>\n",
              "      <td>3.6</td>\n",
              "      <td>NaN</td>\n",
              "    </tr>\n",
              "    <tr>\n",
              "      <th>four</th>\n",
              "      <td>2001</td>\n",
              "      <td>Nevada</td>\n",
              "      <td>2.4</td>\n",
              "      <td>-1.5</td>\n",
              "    </tr>\n",
              "    <tr>\n",
              "      <th>five</th>\n",
              "      <td>2002</td>\n",
              "      <td>Nevada</td>\n",
              "      <td>2.9</td>\n",
              "      <td>-1.7</td>\n",
              "    </tr>\n",
              "    <tr>\n",
              "      <th>six</th>\n",
              "      <td>2003</td>\n",
              "      <td>Nevada</td>\n",
              "      <td>3.2</td>\n",
              "      <td>2.6</td>\n",
              "    </tr>\n",
              "  </tbody>\n",
              "</table>\n",
              "</div>"
            ],
            "text/plain": [
              "       year   state  pop  debt\n",
              "one    2000    Ohio  1.5   NaN\n",
              "two    2001    Ohio  1.7  -1.2\n",
              "three  2002    Ohio  3.6   NaN\n",
              "four   2001  Nevada  2.4  -1.5\n",
              "five   2002  Nevada  2.9  -1.7\n",
              "six    2003  Nevada  3.2   2.6"
            ]
          },
          "metadata": {
            "tags": []
          },
          "execution_count": 108
        }
      ]
    },
    {
      "cell_type": "code",
      "metadata": {
        "id": "Ng2A2-J5NiTH",
        "colab": {
          "base_uri": "https://localhost:8080/"
        },
        "outputId": "49282a02-074d-4e25-de84-32d0dae7baf6"
      },
      "source": [
        "# column name changing using reindex method\n",
        "states = pd.DataFrame(np.arange(9).reshape((3, 3) ),\n",
        "index=['a', 'c', 'd'], columns=['Ohio', 'Texas', 'California'])\n",
        "print(states)\n",
        "states_name = ['Texas', 'Utah', 'California','Ohio']\n",
        "\n",
        "# can we use ffill parameter in column reindex mode ?\n",
        "states =states.reindex(columns=states_name)\n",
        "print(states)\n",
        "\n"
      ],
      "execution_count": null,
      "outputs": [
        {
          "output_type": "stream",
          "text": [
            "   Ohio  Texas  California\n",
            "a     0      1           2\n",
            "c     3      4           5\n",
            "d     6      7           8\n",
            "   Texas  Utah  California  Ohio\n",
            "a      1   NaN           2     0\n",
            "c      4   NaN           5     3\n",
            "d      7   NaN           8     6\n"
          ],
          "name": "stdout"
        }
      ]
    },
    {
      "cell_type": "markdown",
      "metadata": {
        "id": "KO2wKWs8NiTI"
      },
      "source": [
        "# Deleting data (row or column from dataframe) "
      ]
    },
    {
      "cell_type": "code",
      "metadata": {
        "id": "ThORNXZbNiTI",
        "scrolled": true,
        "colab": {
          "base_uri": "https://localhost:8080/"
        },
        "outputId": "115cf50e-8e43-4b39-de83-f85849c69201"
      },
      "source": [
        "\n",
        "\n",
        "data_df = pd.DataFrame(np.arange(16).reshape((4, 4)), \n",
        "             index=['Ohio', 'Colorado', 'Utah', 'New York'],\n",
        "             columns=['one', 'two', 'three', 'four'])\n",
        "\n",
        "print(data_df, \"\\n\")\n",
        "\n",
        "\n",
        "#You can drop values from the columns by passing axis=1 \n",
        "#or axis='columns' :\n",
        "data_df = data_df.drop('Ohio', axis=0) #returns a new df\n",
        "#data_df.drop('two', axis=1, inplace = True)\n",
        "print(data_df)\n",
        "\n",
        "# if i want to remove a row for example 'Colorado', \n",
        "# how can we do that\n",
        "\n"
      ],
      "execution_count": null,
      "outputs": [
        {
          "output_type": "stream",
          "text": [
            "          one  two  three  four\n",
            "Ohio        0    1      2     3\n",
            "Colorado    4    5      6     7\n",
            "Utah        8    9     10    11\n",
            "New York   12   13     14    15 \n",
            "\n",
            "          one  two  three  four\n",
            "Colorado    4    5      6     7\n",
            "Utah        8    9     10    11\n",
            "New York   12   13     14    15\n"
          ],
          "name": "stdout"
        }
      ]
    },
    {
      "cell_type": "markdown",
      "metadata": {
        "id": "GlM05QfZNiTJ"
      },
      "source": [
        "# Indexing, Selection, and Filtering"
      ]
    },
    {
      "cell_type": "code",
      "metadata": {
        "id": "vl8529yeNiTJ",
        "scrolled": true,
        "colab": {
          "base_uri": "https://localhost:8080/"
        },
        "outputId": "3649b93d-7bca-4e1f-af47-65f314289e62"
      },
      "source": [
        "data_df = pd.DataFrame(np.arange(16).reshape((4, 4)), \n",
        "             index=['Ohio', 'Colorado', 'Utah', 'New York'],\n",
        "             columns=['one', 'two', 'three', 'four'])\n",
        "\n",
        "print(data_df, \"\\n\")\n",
        "df2 = data_df[ [\"two\", \"three\"] ]\n",
        "print(df2)\n",
        "print( data_df[  data_df[\"three\"] > 5  ] )\n"
      ],
      "execution_count": null,
      "outputs": [
        {
          "output_type": "stream",
          "text": [
            "          one  two  three  four\n",
            "Ohio        0    1      2     3\n",
            "Colorado    4    5      6     7\n",
            "Utah        8    9     10    11\n",
            "New York   12   13     14    15 \n",
            "\n",
            "          two  three\n",
            "Ohio        1      2\n",
            "Colorado    5      6\n",
            "Utah        9     10\n",
            "New York   13     14\n",
            "          one  two  three  four\n",
            "Colorado    4    5      6     7\n",
            "Utah        8    9     10    11\n",
            "New York   12   13     14    15\n"
          ],
          "name": "stdout"
        }
      ]
    },
    {
      "cell_type": "markdown",
      "metadata": {
        "id": "UoUsvJ0MNiTK"
      },
      "source": [
        "# Selection with loc and iloc"
      ]
    },
    {
      "cell_type": "code",
      "metadata": {
        "id": "b4bpUy8JNiTL",
        "colab": {
          "base_uri": "https://localhost:8080/"
        },
        "outputId": "e4eca509-ac5b-434a-8494-0da006f70923"
      },
      "source": [
        "import numpy as np\n",
        "import pandas as pd\n",
        "\n",
        "data_df = pd.DataFrame(np.arange(16).reshape((4, 4)), \n",
        "             index=['Ohio', 'Colorado', 'Utah', 'New York'],\n",
        "             columns=['one', 'two', 'three', 'four'])\n",
        "\n",
        "print(data_df, \"\\n\")\n",
        "# in the loc method specify row label first \n",
        "# then specify column names\n",
        "# remember! mutiple column names require array notation\n",
        "#print( data_df.loc[['Colorado','Ohio'], ['two',  'three'] ] )\n",
        "#print(\"\\n\")\n",
        "print( data_df.iloc[2:, [3, 0, 1] ] ) # using number instead of labels\n",
        "#print( data_df.iloc[:])\n",
        "#print ( data_df.iloc[ :3 , :3 ] )\n",
        "#print( data_df.iloc[:, :3])\n",
        "       "
      ],
      "execution_count": null,
      "outputs": [
        {
          "output_type": "stream",
          "text": [
            "          one  two  three  four\n",
            "Ohio        0    1      2     3\n",
            "Colorado    4    5      6     7\n",
            "Utah        8    9     10    11\n",
            "New York   12   13     14    15 \n",
            "\n",
            "          two  three\n",
            "Colorado    5      6\n",
            "Ohio        1      2\n",
            "\n",
            "\n",
            "          four  one  two\n",
            "Utah        11    8    9\n",
            "New York    15   12   13\n",
            "          one  two  three  four\n",
            "Ohio        0    1      2     3\n",
            "Colorado    4    5      6     7\n",
            "Utah        8    9     10    11\n",
            "New York   12   13     14    15\n",
            "          one  two  three\n",
            "Ohio        0    1      2\n",
            "Colorado    4    5      6\n",
            "Utah        8    9     10\n",
            "          one  two  three\n",
            "Ohio        0    1      2\n",
            "Colorado    4    5      6\n",
            "Utah        8    9     10\n",
            "New York   12   13     14\n"
          ],
          "name": "stdout"
        }
      ]
    },
    {
      "cell_type": "code",
      "metadata": {
        "id": "hS3g6SlzEXNr"
      },
      "source": [
        ""
      ],
      "execution_count": null,
      "outputs": []
    }
  ]
}