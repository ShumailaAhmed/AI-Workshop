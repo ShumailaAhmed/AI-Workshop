{
  "nbformat": 4,
  "nbformat_minor": 0,
  "metadata": {
    "colab": {
      "name": "TensorBasics.ipynb",
      "provenance": [],
      "authorship_tag": "ABX9TyPV6+1kdYHJkhyaYrkSws4y",
      "include_colab_link": true
    },
    "kernelspec": {
      "name": "python3",
      "display_name": "Python 3"
    }
  },
  "cells": [
    {
      "cell_type": "markdown",
      "metadata": {
        "id": "view-in-github",
        "colab_type": "text"
      },
      "source": [
        "<a href=\"https://colab.research.google.com/github/ShumailaAhmed/AI-Workshop/blob/main/TensorBasics.ipynb\" target=\"_parent\"><img src=\"https://colab.research.google.com/assets/colab-badge.svg\" alt=\"Open In Colab\"/></a>"
      ]
    },
    {
      "cell_type": "code",
      "metadata": {
        "id": "TW9eLvKYVI8M"
      },
      "source": [
        "import torch"
      ],
      "execution_count": 1,
      "outputs": []
    },
    {
      "cell_type": "code",
      "metadata": {
        "id": "ENOohxk1VKrY"
      },
      "source": [
        "oneDTensor = torch.tensor([1,2,3])\n",
        "\n",
        "print(oneDTensor)\n",
        "print(oneDTensor.dtype)\n"
      ],
      "execution_count": null,
      "outputs": []
    },
    {
      "cell_type": "code",
      "metadata": {
        "id": "8zJR78fJVo9c"
      },
      "source": [
        "print(oneDTensor[0])"
      ],
      "execution_count": null,
      "outputs": []
    },
    {
      "cell_type": "code",
      "metadata": {
        "id": "4cHJmr4rWLgN"
      },
      "source": [
        "oneDTensor = torch.tensor([1,2,3,4,5,6])\n",
        "print(oneDTensor[:4])"
      ],
      "execution_count": null,
      "outputs": []
    },
    {
      "cell_type": "code",
      "metadata": {
        "id": "2c0iB-umWfso"
      },
      "source": [
        " floatTensor= torch.FloatTensor([1,2,3,4,5,6])\n",
        " print (floatTensor)\n",
        " print(floatTensor.dtype)"
      ],
      "execution_count": null,
      "outputs": []
    },
    {
      "cell_type": "code",
      "metadata": {
        "id": "sKYvshWMXG5k"
      },
      "source": [
        "print(floatTensor.size())"
      ],
      "execution_count": null,
      "outputs": []
    },
    {
      "cell_type": "code",
      "metadata": {
        "id": "7dS3V2I4Xe0X"
      },
      "source": [
        "floatTensor.view(6,1)"
      ],
      "execution_count": null,
      "outputs": []
    },
    {
      "cell_type": "code",
      "metadata": {
        "id": "xHLQY05mX81A"
      },
      "source": [
        "floatTensor.view(6,2) #throws error"
      ],
      "execution_count": null,
      "outputs": []
    },
    {
      "cell_type": "code",
      "metadata": {
        "id": "G5OolEzmYX11"
      },
      "source": [
        "floatTensor.view(3,2)"
      ],
      "execution_count": null,
      "outputs": []
    },
    {
      "cell_type": "code",
      "metadata": {
        "id": "H-wIHfgbYaYP"
      },
      "source": [
        "floatTensor.view(2,-1)"
      ],
      "execution_count": null,
      "outputs": []
    },
    {
      "cell_type": "code",
      "metadata": {
        "id": "hRnmwvQ3Yc3c"
      },
      "source": [
        "import numpy as np"
      ],
      "execution_count": 18,
      "outputs": []
    },
    {
      "cell_type": "code",
      "metadata": {
        "id": "nuMPbifyZNuw"
      },
      "source": [
        "array = np.array([1,2,3,4,5])\n",
        " "
      ],
      "execution_count": 19,
      "outputs": []
    },
    {
      "cell_type": "code",
      "metadata": {
        "id": "tKlEPRyTZh1j"
      },
      "source": [
        "tensor= torch.from_numpy(array)"
      ],
      "execution_count": 20,
      "outputs": []
    },
    {
      "cell_type": "code",
      "metadata": {
        "id": "8o2LgpPjZsSP"
      },
      "source": [
        "print(tensor)"
      ],
      "execution_count": null,
      "outputs": []
    },
    {
      "cell_type": "code",
      "metadata": {
        "id": "HMVjLvhGZuD3"
      },
      "source": [
        "numpy = tensor.numpy()"
      ],
      "execution_count": 22,
      "outputs": []
    },
    {
      "cell_type": "code",
      "metadata": {
        "id": "pgrwAJ7hbohO"
      },
      "source": [
        "print(numpy)"
      ],
      "execution_count": null,
      "outputs": []
    },
    {
      "cell_type": "code",
      "metadata": {
        "id": "DENPF5Dcbv6a"
      },
      "source": [
        ""
      ],
      "execution_count": null,
      "outputs": []
    }
  ]
}