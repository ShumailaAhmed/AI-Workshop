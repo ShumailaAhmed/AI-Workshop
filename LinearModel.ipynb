{
  "nbformat": 4,
  "nbformat_minor": 0,
  "metadata": {
    "colab": {
      "name": "LinearModel.ipynb",
      "provenance": [],
      "authorship_tag": "ABX9TyM6zQ3LdJAgslSl8bBl+IPt",
      "include_colab_link": true
    },
    "kernelspec": {
      "name": "python3",
      "display_name": "Python 3"
    }
  },
  "cells": [
    {
      "cell_type": "markdown",
      "metadata": {
        "id": "view-in-github",
        "colab_type": "text"
      },
      "source": [
        "<a href=\"https://colab.research.google.com/github/ShumailaAhmed/AI-Workshop/blob/main/LinearModel.ipynb\" target=\"_parent\"><img src=\"https://colab.research.google.com/assets/colab-badge.svg\" alt=\"Open In Colab\"/></a>"
      ]
    },
    {
      "cell_type": "code",
      "metadata": {
        "id": "7EWvMcSs6U1I"
      },
      "source": [
        "import torch\n"
      ],
      "execution_count": 1,
      "outputs": []
    },
    {
      "cell_type": "code",
      "metadata": {
        "id": "ZXhqOI0B6ZVt"
      },
      "source": [
        "w = torch.tensor(3.0,requires_grad=True)\n",
        "b = torch.tensor(1.0,requires_grad=True)\n"
      ],
      "execution_count": 2,
      "outputs": []
    },
    {
      "cell_type": "code",
      "metadata": {
        "id": "YiZIHotX6kPE"
      },
      "source": [
        "def forward(x):\n",
        "  y = w*x+b\n",
        "  return y"
      ],
      "execution_count": 3,
      "outputs": []
    },
    {
      "cell_type": "code",
      "metadata": {
        "colab": {
          "base_uri": "https://localhost:8080/"
        },
        "id": "_NTsiHTR6yEB",
        "outputId": "1c22dec2-a2e6-4b22-d66f-cfed8e1d740c"
      },
      "source": [
        "x= torch.tensor(2)\n",
        "forward(x)\n"
      ],
      "execution_count": 5,
      "outputs": [
        {
          "output_type": "execute_result",
          "data": {
            "text/plain": [
              "tensor(7., grad_fn=<AddBackward0>)"
            ]
          },
          "metadata": {
            "tags": []
          },
          "execution_count": 5
        }
      ]
    },
    {
      "cell_type": "code",
      "metadata": {
        "colab": {
          "base_uri": "https://localhost:8080/"
        },
        "id": "rixcnOrB65XU",
        "outputId": "c4925602-96cc-4e8f-8f20-2d7a0bde9de1"
      },
      "source": [
        "x= torch.tensor([[2],[4],[7]])\n",
        "forward(x)\n"
      ],
      "execution_count": 6,
      "outputs": [
        {
          "output_type": "execute_result",
          "data": {
            "text/plain": [
              "tensor([[ 7.],\n",
              "        [13.],\n",
              "        [22.]], grad_fn=<AddBackward0>)"
            ]
          },
          "metadata": {
            "tags": []
          },
          "execution_count": 6
        }
      ]
    },
    {
      "cell_type": "code",
      "metadata": {
        "id": "kAaIhchm7Aet"
      },
      "source": [
        ""
      ],
      "execution_count": null,
      "outputs": []
    }
  ]
}