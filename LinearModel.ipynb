{
  "nbformat": 4,
  "nbformat_minor": 0,
  "metadata": {
    "colab": {
      "name": "LinearModel.ipynb",
      "provenance": [],
      "authorship_tag": "ABX9TyPGyo0Wks8INFFOn9afKNzp",
      "include_colab_link": true
    },
    "kernelspec": {
      "name": "python3",
      "display_name": "Python 3"
    }
  },
  "cells": [
    {
      "cell_type": "markdown",
      "metadata": {
        "id": "view-in-github",
        "colab_type": "text"
      },
      "source": [
        "<a href=\"https://colab.research.google.com/github/ShumailaAhmed/AI-Workshop/blob/main/LinearModel.ipynb\" target=\"_parent\"><img src=\"https://colab.research.google.com/assets/colab-badge.svg\" alt=\"Open In Colab\"/></a>"
      ]
    },
    {
      "cell_type": "code",
      "metadata": {
        "id": "7EWvMcSs6U1I"
      },
      "source": [
        "import torch\n"
      ],
      "execution_count": null,
      "outputs": []
    },
    {
      "cell_type": "code",
      "metadata": {
        "id": "ZXhqOI0B6ZVt"
      },
      "source": [
        "w = torch.tensor(3.0,requires_grad=True)\n",
        "b = torch.tensor(1.0,requires_grad=True)\n"
      ],
      "execution_count": null,
      "outputs": []
    },
    {
      "cell_type": "code",
      "metadata": {
        "id": "YiZIHotX6kPE"
      },
      "source": [
        "def forward(x):\n",
        "  y = w*x+b\n",
        "  return y"
      ],
      "execution_count": null,
      "outputs": []
    },
    {
      "cell_type": "code",
      "metadata": {
        "colab": {
          "base_uri": "https://localhost:8080/"
        },
        "id": "_NTsiHTR6yEB",
        "outputId": "1c22dec2-a2e6-4b22-d66f-cfed8e1d740c"
      },
      "source": [
        "x= torch.tensor(2)\n",
        "forward(x)\n"
      ],
      "execution_count": null,
      "outputs": [
        {
          "output_type": "execute_result",
          "data": {
            "text/plain": [
              "tensor(7., grad_fn=<AddBackward0>)"
            ]
          },
          "metadata": {
            "tags": []
          },
          "execution_count": 5
        }
      ]
    },
    {
      "cell_type": "code",
      "metadata": {
        "colab": {
          "base_uri": "https://localhost:8080/"
        },
        "id": "rixcnOrB65XU",
        "outputId": "c4925602-96cc-4e8f-8f20-2d7a0bde9de1"
      },
      "source": [
        "x= torch.tensor([[2],[4],[7]])\n",
        "forward(x)\n"
      ],
      "execution_count": null,
      "outputs": [
        {
          "output_type": "execute_result",
          "data": {
            "text/plain": [
              "tensor([[ 7.],\n",
              "        [13.],\n",
              "        [22.]], grad_fn=<AddBackward0>)"
            ]
          },
          "metadata": {
            "tags": []
          },
          "execution_count": 6
        }
      ]
    },
    {
      "cell_type": "code",
      "metadata": {
        "id": "kAaIhchm7Aet"
      },
      "source": [
        "from torch.nn import Linear"
      ],
      "execution_count": 7,
      "outputs": []
    },
    {
      "cell_type": "code",
      "metadata": {
        "colab": {
          "base_uri": "https://localhost:8080/"
        },
        "id": "6o8EtvrN8yya",
        "outputId": "a37ab6a6-e47a-451b-eebf-1c250e3e1dd0"
      },
      "source": [
        "torch.manual_seed(1)# set seed for reproducibility"
      ],
      "execution_count": 8,
      "outputs": [
        {
          "output_type": "execute_result",
          "data": {
            "text/plain": [
              "<torch._C.Generator at 0x7f9238fcab58>"
            ]
          },
          "metadata": {
            "tags": []
          },
          "execution_count": 8
        }
      ]
    },
    {
      "cell_type": "code",
      "metadata": {
        "colab": {
          "base_uri": "https://localhost:8080/"
        },
        "id": "M6YmC2Nd81jc",
        "outputId": "eccabb42-7ac2-4995-ff6a-a3142a991e11"
      },
      "source": [
        "model = Linear(in_features=1, out_features=1) #for every prediction we make, for everyoutput there is a single input\n",
        "print(model.bias, model.weight)\n",
        "# equation y =  0.5153*x -0.4414 "
      ],
      "execution_count": 11,
      "outputs": [
        {
          "output_type": "stream",
          "text": [
            "Parameter containing:\n",
            "tensor([0.4694], requires_grad=True) Parameter containing:\n",
            "tensor([[-0.1939]], requires_grad=True)\n"
          ],
          "name": "stdout"
        }
      ]
    },
    {
      "cell_type": "code",
      "metadata": {
        "colab": {
          "base_uri": "https://localhost:8080/"
        },
        "id": "VJNgaWti9OZR",
        "outputId": "2fc3ac43-13d5-4609-863d-06ce9a3db5b2"
      },
      "source": [
        "x = torch.tensor([2.0])\n",
        "print(model(x))"
      ],
      "execution_count": 13,
      "outputs": [
        {
          "output_type": "stream",
          "text": [
            "tensor([0.0816], grad_fn=<AddBackward0>)\n"
          ],
          "name": "stdout"
        }
      ]
    },
    {
      "cell_type": "code",
      "metadata": {
        "colab": {
          "base_uri": "https://localhost:8080/"
        },
        "id": "vv7FEPZC9pUx",
        "outputId": "826ceff9-b8a0-4830-8650-09c4027cffcd"
      },
      "source": [
        "x = torch.tensor([[2.0],[3.3],[4.0]])\n",
        "print(model(x))"
      ],
      "execution_count": 14,
      "outputs": [
        {
          "output_type": "stream",
          "text": [
            "tensor([[ 0.0816],\n",
            "        [-0.1704],\n",
            "        [-0.3061]], grad_fn=<AddmmBackward>)\n"
          ],
          "name": "stdout"
        }
      ]
    },
    {
      "cell_type": "code",
      "metadata": {
        "id": "1XjFk5ut99yA"
      },
      "source": [
        ""
      ],
      "execution_count": null,
      "outputs": []
    }
  ]
}