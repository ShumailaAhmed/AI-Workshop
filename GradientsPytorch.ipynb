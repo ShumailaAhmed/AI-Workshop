{
  "nbformat": 4,
  "nbformat_minor": 0,
  "metadata": {
    "colab": {
      "name": "GradientsPytorch.ipynb",
      "provenance": [],
      "authorship_tag": "ABX9TyM38n/ZTxvHfrmXbElJl0Ac",
      "include_colab_link": true
    },
    "kernelspec": {
      "name": "python3",
      "display_name": "Python 3"
    }
  },
  "cells": [
    {
      "cell_type": "markdown",
      "metadata": {
        "id": "view-in-github",
        "colab_type": "text"
      },
      "source": [
        "<a href=\"https://colab.research.google.com/github/ShumailaAhmed/AI-Workshop/blob/main/GradientsPytorch.ipynb\" target=\"_parent\"><img src=\"https://colab.research.google.com/assets/colab-badge.svg\" alt=\"Open In Colab\"/></a>"
      ]
    },
    {
      "cell_type": "code",
      "metadata": {
        "id": "99Hag2O2v5r7"
      },
      "source": [
        "import torch\n"
      ],
      "execution_count": 3,
      "outputs": []
    },
    {
      "cell_type": "code",
      "metadata": {
        "colab": {
          "base_uri": "https://localhost:8080/"
        },
        "id": "IFA5j8tLwMvl",
        "outputId": "f4cd3007-d719-4feb-fac1-a7f499334979"
      },
      "source": [
        "x = torch.tensor(2.0, requires_grad= True)\n",
        "y =  9*x**4 + 2*x**3 + 3*x**2 + 6*x +1\n",
        "y.backward()\n",
        "x.grad"
      ],
      "execution_count": 8,
      "outputs": [
        {
          "output_type": "execute_result",
          "data": {
            "text/plain": [
              "tensor(330.)"
            ]
          },
          "metadata": {
            "tags": []
          },
          "execution_count": 8
        }
      ]
    },
    {
      "cell_type": "code",
      "metadata": {
        "colab": {
          "base_uri": "https://localhost:8080/"
        },
        "id": "cU1kVBEGwVyr",
        "outputId": "c06783c0-dc55-4a69-996b-94b40d67f6d3"
      },
      "source": [
        "x = torch.tensor(1.0, requires_grad= True)\n",
        "z = torch.tensor(2.0, requires_grad= True)\n",
        "\n",
        "y = x**2 + z**3\n",
        "\n",
        "y.backward()\n",
        "print(x.grad)\n",
        "print(z.grad)"
      ],
      "execution_count": 9,
      "outputs": [
        {
          "output_type": "stream",
          "text": [
            "tensor(2.)\n",
            "tensor(12.)\n"
          ],
          "name": "stdout"
        }
      ]
    },
    {
      "cell_type": "code",
      "metadata": {
        "id": "tqxEzO0gxmuL"
      },
      "source": [
        ""
      ],
      "execution_count": null,
      "outputs": []
    }
  ]
}